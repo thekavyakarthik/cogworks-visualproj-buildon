{
 "cells": [
  {
   "cell_type": "code",
   "execution_count": 1,
   "metadata": {},
   "outputs": [],
   "source": [
    "from pathlib import Path\n",
    "import numpy as np\n",
    "from PIL import Image\n",
    "import glob\n",
    "from facenet_models import FacenetModel\n",
    "from vision_profile import FaceDatabase\n",
    "#from camera import take_picture\n",
    "from estimation import plot_histograms, is_true_positive\n",
    "from cosdistance import cosine_distance\n",
    "\n",
    "import matplotlib.pyplot as plt\n",
    "%matplotlib inline\n",
    "\n",
    "model = FacenetModel()"
   ]
  },
  {
   "cell_type": "code",
   "execution_count": 2,
   "metadata": {},
   "outputs": [],
   "source": [
    "#Building the DataBase\n",
    "labels = []\n",
    "\n",
    "db = FaceDatabase(file_path=\"actor.pkl\")\n",
    "for filename in glob.glob(r'.\\pics\\train\\*.jpg'):\n",
    "    pic = Image.open(filename)\n",
    "    pic_arr = np.array(pic)\n",
    "    boxes, prob, _ = model.detect(pic_arr)\n",
    "    name = filename[13:-6]\n",
    "    labels.append(name)\n",
    "    descriptors = model.compute_descriptors(pic_arr, boxes) #gets descriptor for every file\n",
    "    for i, d in enumerate(descriptors):\n",
    "        if prob[i] > 0.99: #0.99 prob or greater, then the image is def a person\n",
    "            db.add_image(name, d)\n",
    "db.save()"
   ]
  },
  {
   "cell_type": "markdown",
   "metadata": {},
   "source": [
    "### How to access elements in Profile\n",
    "db.load('database.pkl')\\\n",
    "print(list(db.data.keys())[0])\\\n",
    "print(list(db.data.values())[0].descriptors)\\\n",
    "len(list(db.data.keys()))"
   ]
  },
  {
   "cell_type": "code",
   "execution_count": 10,
   "metadata": {},
   "outputs": [
    {
     "ename": "NameError",
     "evalue": "name 'descriptor1' is not defined",
     "output_type": "error",
     "traceback": [
      "\u001b[1;31m---------------------------------------------------------------------------\u001b[0m",
      "\u001b[1;31mNameError\u001b[0m                                 Traceback (most recent call last)",
      "Cell \u001b[1;32mIn[10], line 30\u001b[0m\n\u001b[0;32m     20\u001b[0m             false_positives\u001b[38;5;241m.\u001b[39mappend(prob)\n\u001b[0;32m     22\u001b[0m     \u001b[38;5;66;03m# for i, descriptor1 in enumerate(descriptors):\u001b[39;00m\n\u001b[0;32m     23\u001b[0m     \u001b[38;5;66;03m#     for j, descriptor2 in enumerate(descriptors):\u001b[39;00m\n\u001b[0;32m     24\u001b[0m     \u001b[38;5;66;03m#         if i < j:\u001b[39;00m\n\u001b[1;32m   (...)\u001b[0m\n\u001b[0;32m     28\u001b[0m     \u001b[38;5;66;03m#             else:\u001b[39;00m\n\u001b[0;32m     29\u001b[0m     \u001b[38;5;66;03m#                 non_match_distances.append(distance)\u001b[39;00m\n\u001b[1;32m---> 30\u001b[0m     matches, non_matches \u001b[38;5;241m=\u001b[39m cosine_distance(\u001b[43mdescriptor1\u001b[49m, descriptor2, labels)\n\u001b[0;32m     33\u001b[0m plot_histograms(true_positives, false_positives, match_distances, non_match_distances)\n\u001b[0;32m     35\u001b[0m     \u001b[38;5;66;03m# print(descriptors)\u001b[39;00m\n\u001b[0;32m     36\u001b[0m \n\u001b[0;32m     37\u001b[0m     \u001b[38;5;66;03m# detections = [detect_face_prob(img, model) for img in pic_arr]\u001b[39;00m\n\u001b[1;32m   (...)\u001b[0m\n\u001b[0;32m     43\u001b[0m     \u001b[38;5;66;03m# true_positives = [prob for _, probs in detections for prob in probs if is_true_positive(prob, labels)]\u001b[39;00m\n\u001b[0;32m     44\u001b[0m     \u001b[38;5;66;03m# false_negatives = [prob for _, probs in detections for prob in probs if not is_true_positive(prob, labels)]\u001b[39;00m\n",
      "\u001b[1;31mNameError\u001b[0m: name 'descriptor1' is not defined"
     ]
    }
   ],
   "source": [
    "#histogram?\n",
    "%matplotlib inline\n",
    "match_distances = []\n",
    "non_match_distances = []\n",
    "true_positives = []\n",
    "false_positives = []\n",
    "\n",
    "\n",
    "for filename in glob.glob(r'./pics/train/*.jpg'):\n",
    "\n",
    "    pic = Image.open(filename)\n",
    "    pic_arr = np.array(pic)\n",
    "    boxes, probs, landmarks = model.detect(pic_arr)\n",
    "    descriptors = model.compute_descriptors(pic_arr, boxes)\n",
    "    \n",
    "\n",
    "    for prob in probs:\n",
    "        if is_true_positive(prob, threshold=0.5): # 0.5 is placeholder [0,1]\n",
    "            true_positives.append(prob)\n",
    "        else:\n",
    "            false_positives.append(prob)\n",
    "\n",
    "    # for i, descriptor1 in enumerate(descriptors):\n",
    "    #     for j, descriptor2 in enumerate(descriptors):\n",
    "    #         if i < j:\n",
    "    #             distance = cosine_distance(descriptor1, descriptor2, labels)[0][0]\n",
    "    #             if labels[i] == labels[j]:\n",
    "    #                 match_distances.append(distance)\n",
    "    #             else:\n",
    "    #                 non_match_distances.append(distance)\n",
    "    matches, non_matches = cosine_distance(descriptor1, descriptor2, labels)\n",
    "\n",
    "\n",
    "plot_histograms(true_positives, false_positives, match_distances, non_match_distances)\n",
    "\n",
    "    # print(descriptors)\n",
    "\n",
    "    # detections = [detect_face_prob(img, model) for img in pic_arr]\n",
    "    # descriptors = [extract_descriptors(img, boxes, model) for img, (boxes, _, _) in zip(pic_arr, detections)]\n",
    "    # descriptors = np.concatenate(descriptors, axis=0)\n",
    "    # labels = np.concatenate([[label] * len(boxes) for label, (boxes, _, _) in zip(pic_arr, detections)], axis=0)\n",
    "\n",
    "    # match_distances, non_match_distances = cosine_distance(descriptors, labels, model)\n",
    "    # true_positives = [prob for _, probs in detections for prob in probs if is_true_positive(prob, labels)]\n",
    "    # false_negatives = [prob for _, probs in detections for prob in probs if not is_true_positive(prob, labels)]"
   ]
  },
  {
   "cell_type": "code",
   "execution_count": null,
   "metadata": {},
   "outputs": [],
   "source": []
  }
 ],
 "metadata": {
  "kernelspec": {
   "display_name": "week2",
   "language": "python",
   "name": "python3"
  },
  "language_info": {
   "codemirror_mode": {
    "name": "ipython",
    "version": 3
   },
   "file_extension": ".py",
   "mimetype": "text/x-python",
   "name": "python",
   "nbconvert_exporter": "python",
   "pygments_lexer": "ipython3",
   "version": "3.8.19"
  }
 },
 "nbformat": 4,
 "nbformat_minor": 2
}
